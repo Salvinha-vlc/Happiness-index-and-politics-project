{
 "cells": [
  {
   "cell_type": "code",
   "execution_count": 11,
   "metadata": {},
   "outputs": [],
   "source": [
    "import pandas as pd\n",
    "import numpy as np"
   ]
  },
  {
   "cell_type": "markdown",
   "metadata": {},
   "source": [
    "##  Countries of analysis:"
   ]
  },
  {
   "cell_type": "code",
   "execution_count": 12,
   "metadata": {},
   "outputs": [],
   "source": [
    "country_list = [\"Spain\", \"Netherlands\", \"France\", \"Greece\", \"Austria\", \"Denmark\", \"Belgium\", \"Italy\", \"Poland\", \"Sweden\"]"
   ]
  },
  {
   "cell_type": "markdown",
   "metadata": {},
   "source": [
    "List of headers in order to match to the SQL database (reference)\n",
    "\n",
    "header_list = [\"Year\", \"Country\", \"Score\", \"GDP\", \"Social support\", \n",
    "               \"Healthy life expectancy\", \"Freedome\", \"Corruption\"]"
   ]
  },
  {
   "cell_type": "code",
   "execution_count": 13,
   "metadata": {},
   "outputs": [],
   "source": [
    "country_id = [key+1 for key in range(10)]"
   ]
  },
  {
   "cell_type": "code",
   "execution_count": 14,
   "metadata": {},
   "outputs": [
    {
     "data": {
      "text/plain": [
       "[1, 2, 3, 4, 5, 6, 7, 8, 9, 10]"
      ]
     },
     "execution_count": 14,
     "metadata": {},
     "output_type": "execute_result"
    }
   ],
   "source": [
    "country_id"
   ]
  },
  {
   "cell_type": "code",
   "execution_count": 15,
   "metadata": {},
   "outputs": [],
   "source": [
    "countries = pd.DataFrame({'country': country_list, 'country_id': country_id})"
   ]
  },
  {
   "cell_type": "code",
   "execution_count": 16,
   "metadata": {},
   "outputs": [
    {
     "data": {
      "text/html": [
       "<div>\n",
       "<style scoped>\n",
       "    .dataframe tbody tr th:only-of-type {\n",
       "        vertical-align: middle;\n",
       "    }\n",
       "\n",
       "    .dataframe tbody tr th {\n",
       "        vertical-align: top;\n",
       "    }\n",
       "\n",
       "    .dataframe thead th {\n",
       "        text-align: right;\n",
       "    }\n",
       "</style>\n",
       "<table border=\"1\" class=\"dataframe\">\n",
       "  <thead>\n",
       "    <tr style=\"text-align: right;\">\n",
       "      <th></th>\n",
       "      <th>country</th>\n",
       "      <th>country_id</th>\n",
       "    </tr>\n",
       "  </thead>\n",
       "  <tbody>\n",
       "    <tr>\n",
       "      <th>0</th>\n",
       "      <td>Spain</td>\n",
       "      <td>1</td>\n",
       "    </tr>\n",
       "    <tr>\n",
       "      <th>1</th>\n",
       "      <td>Netherlands</td>\n",
       "      <td>2</td>\n",
       "    </tr>\n",
       "    <tr>\n",
       "      <th>2</th>\n",
       "      <td>France</td>\n",
       "      <td>3</td>\n",
       "    </tr>\n",
       "    <tr>\n",
       "      <th>3</th>\n",
       "      <td>Greece</td>\n",
       "      <td>4</td>\n",
       "    </tr>\n",
       "    <tr>\n",
       "      <th>4</th>\n",
       "      <td>Austria</td>\n",
       "      <td>5</td>\n",
       "    </tr>\n",
       "  </tbody>\n",
       "</table>\n",
       "</div>"
      ],
      "text/plain": [
       "       country  country_id\n",
       "0        Spain           1\n",
       "1  Netherlands           2\n",
       "2       France           3\n",
       "3       Greece           4\n",
       "4      Austria           5"
      ]
     },
     "execution_count": 16,
     "metadata": {},
     "output_type": "execute_result"
    }
   ],
   "source": [
    "countries.head()"
   ]
  },
  {
   "cell_type": "markdown",
   "metadata": {},
   "source": [
    "## Cleaning of Happiness 2017"
   ]
  },
  {
   "cell_type": "markdown",
   "metadata": {},
   "source": [
    "#### open file"
   ]
  },
  {
   "cell_type": "code",
   "execution_count": 16,
   "metadata": {},
   "outputs": [],
   "source": [
    "happiness_2017 = pd.read_csv(\"../Data/backup_raw_data/happiness_2017_extended.csv\")"
   ]
  },
  {
   "cell_type": "markdown",
   "metadata": {},
   "source": [
    "#### select countries"
   ]
  },
  {
   "cell_type": "code",
   "execution_count": 17,
   "metadata": {},
   "outputs": [
    {
     "data": {
      "text/plain": [
       "Index(['Country', 'Happiness score', 'GDP per capita', 'Social support',\n",
       "       'Healthy life expectancy', 'Freedom to make life choices',\n",
       "       ' Generosity', 'Perceptions of corruption', 'Unnamed: 8', 'Unnamed: 9'],\n",
       "      dtype='object')"
      ]
     },
     "execution_count": 17,
     "metadata": {},
     "output_type": "execute_result"
    }
   ],
   "source": [
    "happiness_2017 = happiness_2017[(happiness_2017[\"Country\"].isin(country_list))]\n",
    "happiness_2017.columns"
   ]
  },
  {
   "cell_type": "markdown",
   "metadata": {},
   "source": [
    "##### change the col names + drop empty cols"
   ]
  },
  {
   "cell_type": "code",
   "execution_count": 41,
   "metadata": {},
   "outputs": [],
   "source": [
    "happiness_2017 = happiness_2017.dropna(axis=1)\n",
    "happiness_2017 = happiness_2017.rename(columns={\"Happiness score\":\"Score\", \"GDP per capita\":\"GDP\",\n",
    "                                               \"Freedom to make life choices\":\"Freedom\"})\n"
   ]
  },
  {
   "cell_type": "code",
   "execution_count": 42,
   "metadata": {},
   "outputs": [
    {
     "data": {
      "text/html": [
       "<div>\n",
       "<style scoped>\n",
       "    .dataframe tbody tr th:only-of-type {\n",
       "        vertical-align: middle;\n",
       "    }\n",
       "\n",
       "    .dataframe tbody tr th {\n",
       "        vertical-align: top;\n",
       "    }\n",
       "\n",
       "    .dataframe thead th {\n",
       "        text-align: right;\n",
       "    }\n",
       "</style>\n",
       "<table border=\"1\" class=\"dataframe\">\n",
       "  <thead>\n",
       "    <tr style=\"text-align: right;\">\n",
       "      <th></th>\n",
       "      <th>Country</th>\n",
       "      <th>Score</th>\n",
       "      <th>GDP</th>\n",
       "      <th>Social support</th>\n",
       "      <th>Healthy life expectancy</th>\n",
       "      <th>Freedom</th>\n",
       "      <th>Generosity</th>\n",
       "      <th>Perceptions of corruption</th>\n",
       "    </tr>\n",
       "  </thead>\n",
       "  <tbody>\n",
       "    <tr>\n",
       "      <th>1</th>\n",
       "      <td>Denmark</td>\n",
       "      <td>7.522</td>\n",
       "      <td>1.482</td>\n",
       "      <td>1.551</td>\n",
       "      <td>0.793</td>\n",
       "      <td>0.626</td>\n",
       "      <td>0.355</td>\n",
       "      <td>0.401</td>\n",
       "    </tr>\n",
       "    <tr>\n",
       "      <th>5</th>\n",
       "      <td>Netherlands</td>\n",
       "      <td>7.377</td>\n",
       "      <td>1.504</td>\n",
       "      <td>1.429</td>\n",
       "      <td>0.811</td>\n",
       "      <td>0.585</td>\n",
       "      <td>0.470</td>\n",
       "      <td>0.283</td>\n",
       "    </tr>\n",
       "    <tr>\n",
       "      <th>8</th>\n",
       "      <td>Sweden</td>\n",
       "      <td>7.284</td>\n",
       "      <td>1.494</td>\n",
       "      <td>1.478</td>\n",
       "      <td>0.831</td>\n",
       "      <td>0.613</td>\n",
       "      <td>0.385</td>\n",
       "      <td>0.384</td>\n",
       "    </tr>\n",
       "    <tr>\n",
       "      <th>12</th>\n",
       "      <td>Austria</td>\n",
       "      <td>7.006</td>\n",
       "      <td>1.487</td>\n",
       "      <td>1.460</td>\n",
       "      <td>0.815</td>\n",
       "      <td>0.568</td>\n",
       "      <td>0.316</td>\n",
       "      <td>0.221</td>\n",
       "    </tr>\n",
       "    <tr>\n",
       "      <th>16</th>\n",
       "      <td>Belgium</td>\n",
       "      <td>6.891</td>\n",
       "      <td>1.464</td>\n",
       "      <td>1.462</td>\n",
       "      <td>0.818</td>\n",
       "      <td>0.540</td>\n",
       "      <td>0.232</td>\n",
       "      <td>0.251</td>\n",
       "    </tr>\n",
       "    <tr>\n",
       "      <th>30</th>\n",
       "      <td>France</td>\n",
       "      <td>6.442</td>\n",
       "      <td>1.431</td>\n",
       "      <td>1.388</td>\n",
       "      <td>0.844</td>\n",
       "      <td>0.470</td>\n",
       "      <td>0.130</td>\n",
       "      <td>0.173</td>\n",
       "    </tr>\n",
       "    <tr>\n",
       "      <th>33</th>\n",
       "      <td>Spain</td>\n",
       "      <td>6.403</td>\n",
       "      <td>1.384</td>\n",
       "      <td>1.532</td>\n",
       "      <td>0.889</td>\n",
       "      <td>0.409</td>\n",
       "      <td>0.190</td>\n",
       "      <td>0.071</td>\n",
       "    </tr>\n",
       "    <tr>\n",
       "      <th>45</th>\n",
       "      <td>Poland</td>\n",
       "      <td>5.973</td>\n",
       "      <td>1.292</td>\n",
       "      <td>1.446</td>\n",
       "      <td>0.699</td>\n",
       "      <td>0.520</td>\n",
       "      <td>0.158</td>\n",
       "      <td>0.059</td>\n",
       "    </tr>\n",
       "    <tr>\n",
       "      <th>47</th>\n",
       "      <td>Italy</td>\n",
       "      <td>5.964</td>\n",
       "      <td>1.395</td>\n",
       "      <td>1.445</td>\n",
       "      <td>0.853</td>\n",
       "      <td>0.256</td>\n",
       "      <td>0.173</td>\n",
       "      <td>0.028</td>\n",
       "    </tr>\n",
       "    <tr>\n",
       "      <th>86</th>\n",
       "      <td>Greece</td>\n",
       "      <td>5.227</td>\n",
       "      <td>1.289</td>\n",
       "      <td>1.239</td>\n",
       "      <td>0.810</td>\n",
       "      <td>0.096</td>\n",
       "      <td>0.000</td>\n",
       "      <td>0.043</td>\n",
       "    </tr>\n",
       "  </tbody>\n",
       "</table>\n",
       "</div>"
      ],
      "text/plain": [
       "        Country  Score    GDP  Social support  Healthy life expectancy  \\\n",
       "1       Denmark  7.522  1.482           1.551                    0.793   \n",
       "5   Netherlands  7.377  1.504           1.429                    0.811   \n",
       "8        Sweden  7.284  1.494           1.478                    0.831   \n",
       "12      Austria  7.006  1.487           1.460                    0.815   \n",
       "16      Belgium  6.891  1.464           1.462                    0.818   \n",
       "30       France  6.442  1.431           1.388                    0.844   \n",
       "33        Spain  6.403  1.384           1.532                    0.889   \n",
       "45       Poland  5.973  1.292           1.446                    0.699   \n",
       "47        Italy  5.964  1.395           1.445                    0.853   \n",
       "86       Greece  5.227  1.289           1.239                    0.810   \n",
       "\n",
       "    Freedom   Generosity  Perceptions of corruption  \n",
       "1     0.626        0.355                      0.401  \n",
       "5     0.585        0.470                      0.283  \n",
       "8     0.613        0.385                      0.384  \n",
       "12    0.568        0.316                      0.221  \n",
       "16    0.540        0.232                      0.251  \n",
       "30    0.470        0.130                      0.173  \n",
       "33    0.409        0.190                      0.071  \n",
       "45    0.520        0.158                      0.059  \n",
       "47    0.256        0.173                      0.028  \n",
       "86    0.096        0.000                      0.043  "
      ]
     },
     "execution_count": 42,
     "metadata": {},
     "output_type": "execute_result"
    }
   ],
   "source": [
    "happiness_2017"
   ]
  },
  {
   "cell_type": "markdown",
   "metadata": {},
   "source": [
    "#### save to new csv"
   ]
  },
  {
   "cell_type": "code",
   "execution_count": 43,
   "metadata": {},
   "outputs": [],
   "source": [
    "happiness_2017.to_csv(\"../Data/happiness_2017.csv\")"
   ]
  },
  {
   "cell_type": "markdown",
   "metadata": {},
   "source": [
    "# Cleaning of happiness 2016\n",
    "code steps explained in previous section, same process used for all tables"
   ]
  },
  {
   "cell_type": "code",
   "execution_count": 39,
   "metadata": {},
   "outputs": [
    {
     "data": {
      "text/html": [
       "<div>\n",
       "<style scoped>\n",
       "    .dataframe tbody tr th:only-of-type {\n",
       "        vertical-align: middle;\n",
       "    }\n",
       "\n",
       "    .dataframe tbody tr th {\n",
       "        vertical-align: top;\n",
       "    }\n",
       "\n",
       "    .dataframe thead th {\n",
       "        text-align: right;\n",
       "    }\n",
       "</style>\n",
       "<table border=\"1\" class=\"dataframe\">\n",
       "  <thead>\n",
       "    <tr style=\"text-align: right;\">\n",
       "      <th></th>\n",
       "      <th>Country</th>\n",
       "      <th>Score</th>\n",
       "      <th>GDP</th>\n",
       "      <th>Social support</th>\n",
       "      <th>Healthy life expectancy</th>\n",
       "      <th>Freedom</th>\n",
       "      <th>Generosity</th>\n",
       "      <th>Perceptions of corruption</th>\n",
       "    </tr>\n",
       "  </thead>\n",
       "  <tbody>\n",
       "    <tr>\n",
       "      <th>0</th>\n",
       "      <td>Denmark</td>\n",
       "      <td>7.526</td>\n",
       "      <td>1.441784</td>\n",
       "      <td>1.163745</td>\n",
       "      <td>0.795040</td>\n",
       "      <td>0.579413</td>\n",
       "      <td>0.361710</td>\n",
       "      <td>0.444532</td>\n",
       "    </tr>\n",
       "    <tr>\n",
       "      <th>6</th>\n",
       "      <td>Netherlands</td>\n",
       "      <td>7.339</td>\n",
       "      <td>1.464684</td>\n",
       "      <td>1.029123</td>\n",
       "      <td>0.812309</td>\n",
       "      <td>0.552114</td>\n",
       "      <td>0.474158</td>\n",
       "      <td>0.299268</td>\n",
       "    </tr>\n",
       "    <tr>\n",
       "      <th>9</th>\n",
       "      <td>Sweden</td>\n",
       "      <td>7.291</td>\n",
       "      <td>1.451810</td>\n",
       "      <td>1.087640</td>\n",
       "      <td>0.831212</td>\n",
       "      <td>0.582185</td>\n",
       "      <td>0.382538</td>\n",
       "      <td>0.408666</td>\n",
       "    </tr>\n",
       "    <tr>\n",
       "      <th>11</th>\n",
       "      <td>Austria</td>\n",
       "      <td>7.119</td>\n",
       "      <td>1.450382</td>\n",
       "      <td>1.083833</td>\n",
       "      <td>0.805645</td>\n",
       "      <td>0.543552</td>\n",
       "      <td>0.328647</td>\n",
       "      <td>0.213484</td>\n",
       "    </tr>\n",
       "    <tr>\n",
       "      <th>17</th>\n",
       "      <td>Belgium</td>\n",
       "      <td>6.929</td>\n",
       "      <td>1.425390</td>\n",
       "      <td>1.052487</td>\n",
       "      <td>0.819594</td>\n",
       "      <td>0.513538</td>\n",
       "      <td>0.242399</td>\n",
       "      <td>0.262476</td>\n",
       "    </tr>\n",
       "    <tr>\n",
       "      <th>31</th>\n",
       "      <td>France</td>\n",
       "      <td>6.478</td>\n",
       "      <td>1.394884</td>\n",
       "      <td>1.005080</td>\n",
       "      <td>0.837950</td>\n",
       "      <td>0.465618</td>\n",
       "      <td>0.121603</td>\n",
       "      <td>0.178083</td>\n",
       "    </tr>\n",
       "    <tr>\n",
       "      <th>36</th>\n",
       "      <td>Spain</td>\n",
       "      <td>6.361</td>\n",
       "      <td>1.342531</td>\n",
       "      <td>1.129447</td>\n",
       "      <td>0.878960</td>\n",
       "      <td>0.375447</td>\n",
       "      <td>0.176650</td>\n",
       "      <td>0.061373</td>\n",
       "    </tr>\n",
       "    <tr>\n",
       "      <th>49</th>\n",
       "      <td>Italy</td>\n",
       "      <td>5.977</td>\n",
       "      <td>1.354947</td>\n",
       "      <td>1.041667</td>\n",
       "      <td>0.851018</td>\n",
       "      <td>0.188267</td>\n",
       "      <td>0.166839</td>\n",
       "      <td>0.025556</td>\n",
       "    </tr>\n",
       "    <tr>\n",
       "      <th>56</th>\n",
       "      <td>Poland</td>\n",
       "      <td>5.835</td>\n",
       "      <td>1.245847</td>\n",
       "      <td>1.046848</td>\n",
       "      <td>0.690581</td>\n",
       "      <td>0.451902</td>\n",
       "      <td>0.144435</td>\n",
       "      <td>0.054996</td>\n",
       "    </tr>\n",
       "    <tr>\n",
       "      <th>98</th>\n",
       "      <td>Greece</td>\n",
       "      <td>5.033</td>\n",
       "      <td>1.248862</td>\n",
       "      <td>0.754732</td>\n",
       "      <td>0.800289</td>\n",
       "      <td>0.058221</td>\n",
       "      <td>0.000000</td>\n",
       "      <td>0.041272</td>\n",
       "    </tr>\n",
       "  </tbody>\n",
       "</table>\n",
       "</div>"
      ],
      "text/plain": [
       "        Country  Score       GDP  Social support  Healthy life expectancy  \\\n",
       "0       Denmark  7.526  1.441784        1.163745                 0.795040   \n",
       "6   Netherlands  7.339  1.464684        1.029123                 0.812309   \n",
       "9        Sweden  7.291  1.451810        1.087640                 0.831212   \n",
       "11      Austria  7.119  1.450382        1.083833                 0.805645   \n",
       "17      Belgium  6.929  1.425390        1.052487                 0.819594   \n",
       "31       France  6.478  1.394884        1.005080                 0.837950   \n",
       "36        Spain  6.361  1.342531        1.129447                 0.878960   \n",
       "49        Italy  5.977  1.354947        1.041667                 0.851018   \n",
       "56       Poland  5.835  1.245847        1.046848                 0.690581   \n",
       "98       Greece  5.033  1.248862        0.754732                 0.800289   \n",
       "\n",
       "     Freedom  Generosity  Perceptions of corruption  \n",
       "0   0.579413    0.361710                   0.444532  \n",
       "6   0.552114    0.474158                   0.299268  \n",
       "9   0.582185    0.382538                   0.408666  \n",
       "11  0.543552    0.328647                   0.213484  \n",
       "17  0.513538    0.242399                   0.262476  \n",
       "31  0.465618    0.121603                   0.178083  \n",
       "36  0.375447    0.176650                   0.061373  \n",
       "49  0.188267    0.166839                   0.025556  \n",
       "56  0.451902    0.144435                   0.054996  \n",
       "98  0.058221    0.000000                   0.041272  "
      ]
     },
     "execution_count": 39,
     "metadata": {},
     "output_type": "execute_result"
    }
   ],
   "source": [
    "# read\n",
    "happiness_2016 = pd.read_csv(\"../Data/backup_raw_data/happiness_2016_extended.csv\")\n",
    "\n",
    "# check for countries \n",
    "happiness_2016 = happiness_2016[(happiness_2016[\"Country\"].isin(country_list))]\n",
    "\n",
    "# rename columns for consistencey to join\n",
    "happiness_2016 = happiness_2016.rename(columns={\"Happiness score\":\"Score\", \"GDP per capita\":\"GDP\", \n",
    "                                                \"Freedom to make life choices\":\"Freedom\"})\n",
    "\n",
    "# frop Na column \n",
    "happiness_2016 = happiness_2016.dropna(axis=1)\n",
    "\n",
    "happiness_2016\n"
   ]
  },
  {
   "cell_type": "code",
   "execution_count": 44,
   "metadata": {},
   "outputs": [],
   "source": [
    "# save\n",
    "happiness_2016.to_csv(\"../Data/happiness_2016.csv\")"
   ]
  },
  {
   "cell_type": "markdown",
   "metadata": {},
   "source": [
    "# Cleaning of happines other years"
   ]
  },
  {
   "cell_type": "code",
   "execution_count": 40,
   "metadata": {},
   "outputs": [
    {
     "data": {
      "text/html": [
       "<div>\n",
       "<style scoped>\n",
       "    .dataframe tbody tr th:only-of-type {\n",
       "        vertical-align: middle;\n",
       "    }\n",
       "\n",
       "    .dataframe tbody tr th {\n",
       "        vertical-align: top;\n",
       "    }\n",
       "\n",
       "    .dataframe thead th {\n",
       "        text-align: right;\n",
       "    }\n",
       "</style>\n",
       "<table border=\"1\" class=\"dataframe\">\n",
       "  <thead>\n",
       "    <tr style=\"text-align: right;\">\n",
       "      <th></th>\n",
       "      <th>country</th>\n",
       "      <th>year</th>\n",
       "      <th>Score</th>\n",
       "      <th>GDP</th>\n",
       "      <th>Social support</th>\n",
       "      <th>Healthy life expectancy</th>\n",
       "      <th>Freedom</th>\n",
       "      <th>Confidence in national government</th>\n",
       "    </tr>\n",
       "  </thead>\n",
       "  <tbody>\n",
       "    <tr>\n",
       "      <th>52</th>\n",
       "      <td>Austria</td>\n",
       "      <td>2006</td>\n",
       "      <td>7.122211</td>\n",
       "      <td>10.648226</td>\n",
       "      <td>0.936350</td>\n",
       "      <td>70.018700</td>\n",
       "      <td>0.941382</td>\n",
       "      <td>0.497038</td>\n",
       "    </tr>\n",
       "    <tr>\n",
       "      <th>53</th>\n",
       "      <td>Austria</td>\n",
       "      <td>2008</td>\n",
       "      <td>7.180954</td>\n",
       "      <td>10.692783</td>\n",
       "      <td>0.934593</td>\n",
       "      <td>70.501869</td>\n",
       "      <td>0.879069</td>\n",
       "      <td>0.257242</td>\n",
       "    </tr>\n",
       "    <tr>\n",
       "      <th>54</th>\n",
       "      <td>Austria</td>\n",
       "      <td>2010</td>\n",
       "      <td>7.302679</td>\n",
       "      <td>10.668132</td>\n",
       "      <td>0.914193</td>\n",
       "      <td>70.632278</td>\n",
       "      <td>0.895980</td>\n",
       "      <td>0.486447</td>\n",
       "    </tr>\n",
       "    <tr>\n",
       "      <th>55</th>\n",
       "      <td>Austria</td>\n",
       "      <td>2011</td>\n",
       "      <td>7.470513</td>\n",
       "      <td>10.692453</td>\n",
       "      <td>0.944157</td>\n",
       "      <td>70.985039</td>\n",
       "      <td>0.939356</td>\n",
       "      <td>0.406920</td>\n",
       "    </tr>\n",
       "    <tr>\n",
       "      <th>56</th>\n",
       "      <td>Austria</td>\n",
       "      <td>2012</td>\n",
       "      <td>7.400689</td>\n",
       "      <td>10.695439</td>\n",
       "      <td>0.945142</td>\n",
       "      <td>70.944412</td>\n",
       "      <td>0.919704</td>\n",
       "      <td>0.376574</td>\n",
       "    </tr>\n",
       "  </tbody>\n",
       "</table>\n",
       "</div>"
      ],
      "text/plain": [
       "    country  year     Score        GDP  Social support  \\\n",
       "52  Austria  2006  7.122211  10.648226        0.936350   \n",
       "53  Austria  2008  7.180954  10.692783        0.934593   \n",
       "54  Austria  2010  7.302679  10.668132        0.914193   \n",
       "55  Austria  2011  7.470513  10.692453        0.944157   \n",
       "56  Austria  2012  7.400689  10.695439        0.945142   \n",
       "\n",
       "    Healthy life expectancy   Freedom  Confidence in national government  \n",
       "52                70.018700  0.941382                           0.497038  \n",
       "53                70.501869  0.879069                           0.257242  \n",
       "54                70.632278  0.895980                           0.486447  \n",
       "55                70.985039  0.939356                           0.406920  \n",
       "56                70.944412  0.919704                           0.376574  "
      ]
     },
     "execution_count": 40,
     "metadata": {},
     "output_type": "execute_result"
    }
   ],
   "source": [
    "# read file\n",
    "happiness_older = pd.read_csv(\"../Data/backup_raw_data/happiness_2015_to_2010_extended.csv\")\n",
    "\n",
    "# select countries\n",
    "happiness_older = happiness_older[(happiness_older[\"country\"].isin(country_list))]\n",
    "\n",
    "# make column names consistent to join \n",
    "happiness_older = happiness_older.rename(columns={\"Life Ladder\":\"Score\", \"Log GDP per capita\":\"GDP\", \n",
    "                                                  \"Healthy life expectancy at birth\":\"Healthy life expectancy\", \n",
    "                                                  \"Freedom to make life choices\":\"Freedom\"})\n",
    "\n",
    "# two columns with NaN as csv file had a cell merge\n",
    "happiness_older = happiness_older.dropna(axis=1)\n",
    "\n",
    "# maintain all columns consistent with all files of Happiness. \n",
    "# 2015 onwards dont't have pos, neg affect and confidence in national government \n",
    "happiness_older = happiness_older.drop([\"Positive affect\"], axis=1)\n",
    "happiness_older = happiness_older.drop([\"Negative affect\"], axis=1)\n",
    "\n",
    "happiness_older.head()"
   ]
  },
  {
   "cell_type": "code",
   "execution_count": 45,
   "metadata": {},
   "outputs": [],
   "source": [
    "# save \n",
    "happiness_older.to_csv(\"../Data/happiness_2015_and_older.csv\")"
   ]
  },
  {
   "cell_type": "markdown",
   "metadata": {},
   "source": [
    "# Cleaning final data to insert it into the database"
   ]
  },
  {
   "cell_type": "markdown",
   "metadata": {},
   "source": [
    "## Cleaning countries dataframe"
   ]
  },
  {
   "cell_type": "code",
   "execution_count": 17,
   "metadata": {},
   "outputs": [],
   "source": [
    "countries = countries.rename(columns={\"country_id\":\"id\"})"
   ]
  },
  {
   "cell_type": "code",
   "execution_count": 18,
   "metadata": {},
   "outputs": [],
   "source": [
    "countries_columns = [\"id\", \"country\"]\n",
    "\n",
    "countries = countries[countries_columns]"
   ]
  },
  {
   "cell_type": "code",
   "execution_count": 19,
   "metadata": {},
   "outputs": [],
   "source": [
    "countries.to_csv(\"../Data/countries.csv\", index=False)"
   ]
  },
  {
   "cell_type": "markdown",
   "metadata": {},
   "source": [
    "## Cleaning elections data"
   ]
  },
  {
   "cell_type": "code",
   "execution_count": 76,
   "metadata": {},
   "outputs": [],
   "source": [
    "elections = pd.read_csv(\"../Data/backup_raw_data/Elections_10_countries_raw.csv\")"
   ]
  },
  {
   "cell_type": "code",
   "execution_count": 77,
   "metadata": {},
   "outputs": [
    {
     "data": {
      "text/html": [
       "<div>\n",
       "<style scoped>\n",
       "    .dataframe tbody tr th:only-of-type {\n",
       "        vertical-align: middle;\n",
       "    }\n",
       "\n",
       "    .dataframe tbody tr th {\n",
       "        vertical-align: top;\n",
       "    }\n",
       "\n",
       "    .dataframe thead th {\n",
       "        text-align: right;\n",
       "    }\n",
       "</style>\n",
       "<table border=\"1\" class=\"dataframe\">\n",
       "  <thead>\n",
       "    <tr style=\"text-align: right;\">\n",
       "      <th></th>\n",
       "      <th>Country</th>\n",
       "      <th>Year</th>\n",
       "      <th>Type</th>\n",
       "      <th>Proportion</th>\n",
       "    </tr>\n",
       "  </thead>\n",
       "  <tbody>\n",
       "    <tr>\n",
       "      <th>0</th>\n",
       "      <td>Belgium</td>\n",
       "      <td>2019</td>\n",
       "      <td>Right</td>\n",
       "      <td>12.00</td>\n",
       "    </tr>\n",
       "    <tr>\n",
       "      <th>1</th>\n",
       "      <td>Belgium</td>\n",
       "      <td>2014</td>\n",
       "      <td>Right</td>\n",
       "      <td>2.67</td>\n",
       "    </tr>\n",
       "    <tr>\n",
       "      <th>2</th>\n",
       "      <td>Belgium</td>\n",
       "      <td>2019</td>\n",
       "      <td>Left</td>\n",
       "      <td>8.00</td>\n",
       "    </tr>\n",
       "    <tr>\n",
       "      <th>3</th>\n",
       "      <td>Belgium</td>\n",
       "      <td>2014</td>\n",
       "      <td>Left</td>\n",
       "      <td>1.33</td>\n",
       "    </tr>\n",
       "    <tr>\n",
       "      <th>4</th>\n",
       "      <td>Denmark</td>\n",
       "      <td>2019</td>\n",
       "      <td>Right</td>\n",
       "      <td>11.17</td>\n",
       "    </tr>\n",
       "  </tbody>\n",
       "</table>\n",
       "</div>"
      ],
      "text/plain": [
       "   Country  Year   Type  Proportion\n",
       "0  Belgium  2019  Right       12.00\n",
       "1  Belgium  2014  Right        2.67\n",
       "2  Belgium  2019   Left        8.00\n",
       "3  Belgium  2014   Left        1.33\n",
       "4  Denmark  2019  Right       11.17"
      ]
     },
     "execution_count": 77,
     "metadata": {},
     "output_type": "execute_result"
    }
   ],
   "source": [
    "elections.head()"
   ]
  },
  {
   "cell_type": "markdown",
   "metadata": {},
   "source": [
    "#### Renaming the columns to the way we have defined in the database"
   ]
  },
  {
   "cell_type": "code",
   "execution_count": 78,
   "metadata": {},
   "outputs": [],
   "source": [
    "elections = elections.rename(columns={\"Country\":\"id_country\", \"Year\":\"year\", \"Proportion\":\"proportion_votes\", \"Type\":\"extreme_type\"})"
   ]
  },
  {
   "cell_type": "markdown",
   "metadata": {},
   "source": [
    "#### Cleaning misleading names"
   ]
  },
  {
   "cell_type": "code",
   "execution_count": 80,
   "metadata": {},
   "outputs": [],
   "source": [
    "elections[\"id_country\"] = elections[\"id_country\"].str.replace(\"French\", \"France\")"
   ]
  },
  {
   "cell_type": "markdown",
   "metadata": {},
   "source": [
    "#### Changing name of countries per ids, since this is consistent with the way we designed the database"
   ]
  },
  {
   "cell_type": "code",
   "execution_count": 235,
   "metadata": {},
   "outputs": [],
   "source": [
    "country_id_dict = dict(zip(country_id, country_list))"
   ]
  },
  {
   "cell_type": "code",
   "execution_count": 236,
   "metadata": {},
   "outputs": [
    {
     "data": {
      "text/plain": [
       "{1: 'Spain',\n",
       " 2: 'Netherlands',\n",
       " 3: 'France',\n",
       " 4: 'Greece',\n",
       " 5: 'Austria',\n",
       " 6: 'Denmark',\n",
       " 7: 'Belgium',\n",
       " 8: 'Italy',\n",
       " 9: 'Poland',\n",
       " 10: 'Sweden'}"
      ]
     },
     "execution_count": 236,
     "metadata": {},
     "output_type": "execute_result"
    }
   ],
   "source": [
    "country_id_dict"
   ]
  },
  {
   "cell_type": "code",
   "execution_count": 237,
   "metadata": {},
   "outputs": [],
   "source": [
    "elections = elections.replace({\"id_country\": country_id_dict})"
   ]
  },
  {
   "cell_type": "code",
   "execution_count": 19,
   "metadata": {},
   "outputs": [],
   "source": [
    "#elections.head()"
   ]
  },
  {
   "cell_type": "markdown",
   "metadata": {},
   "source": [
    "#### Changing the order of columns"
   ]
  },
  {
   "cell_type": "code",
   "execution_count": 83,
   "metadata": {},
   "outputs": [
    {
     "data": {
      "text/plain": [
       "Index(['id_country', 'year', 'extreme_type', 'proportion_votes'], dtype='object')"
      ]
     },
     "execution_count": 83,
     "metadata": {},
     "output_type": "execute_result"
    }
   ],
   "source": [
    "elections.columns"
   ]
  },
  {
   "cell_type": "code",
   "execution_count": 84,
   "metadata": {},
   "outputs": [],
   "source": [
    "elections_columns = [\"year\", \"id_country\", \"proportion_votes\", \"extreme_type\"]\n",
    "\n",
    "elections = elections[elections_columns]"
   ]
  },
  {
   "cell_type": "code",
   "execution_count": 85,
   "metadata": {
    "scrolled": true
   },
   "outputs": [
    {
     "data": {
      "text/html": [
       "<div>\n",
       "<style scoped>\n",
       "    .dataframe tbody tr th:only-of-type {\n",
       "        vertical-align: middle;\n",
       "    }\n",
       "\n",
       "    .dataframe tbody tr th {\n",
       "        vertical-align: top;\n",
       "    }\n",
       "\n",
       "    .dataframe thead th {\n",
       "        text-align: right;\n",
       "    }\n",
       "</style>\n",
       "<table border=\"1\" class=\"dataframe\">\n",
       "  <thead>\n",
       "    <tr style=\"text-align: right;\">\n",
       "      <th></th>\n",
       "      <th>year</th>\n",
       "      <th>id_country</th>\n",
       "      <th>proportion_votes</th>\n",
       "      <th>extreme_type</th>\n",
       "    </tr>\n",
       "  </thead>\n",
       "  <tbody>\n",
       "    <tr>\n",
       "      <th>0</th>\n",
       "      <td>2019</td>\n",
       "      <td>7</td>\n",
       "      <td>12.00</td>\n",
       "      <td>Right</td>\n",
       "    </tr>\n",
       "    <tr>\n",
       "      <th>1</th>\n",
       "      <td>2014</td>\n",
       "      <td>7</td>\n",
       "      <td>2.67</td>\n",
       "      <td>Right</td>\n",
       "    </tr>\n",
       "    <tr>\n",
       "      <th>2</th>\n",
       "      <td>2019</td>\n",
       "      <td>7</td>\n",
       "      <td>8.00</td>\n",
       "      <td>Left</td>\n",
       "    </tr>\n",
       "    <tr>\n",
       "      <th>3</th>\n",
       "      <td>2014</td>\n",
       "      <td>7</td>\n",
       "      <td>1.33</td>\n",
       "      <td>Left</td>\n",
       "    </tr>\n",
       "    <tr>\n",
       "      <th>4</th>\n",
       "      <td>2019</td>\n",
       "      <td>6</td>\n",
       "      <td>11.17</td>\n",
       "      <td>Right</td>\n",
       "    </tr>\n",
       "  </tbody>\n",
       "</table>\n",
       "</div>"
      ],
      "text/plain": [
       "   year  id_country  proportion_votes extreme_type\n",
       "0  2019           7             12.00        Right\n",
       "1  2014           7              2.67        Right\n",
       "2  2019           7              8.00         Left\n",
       "3  2014           7              1.33         Left\n",
       "4  2019           6             11.17        Right"
      ]
     },
     "execution_count": 85,
     "metadata": {},
     "output_type": "execute_result"
    }
   ],
   "source": [
    "elections.head()"
   ]
  },
  {
   "cell_type": "code",
   "execution_count": 86,
   "metadata": {},
   "outputs": [],
   "source": [
    "elections.to_csv(\"../Data/Elections_10_countries.csv\", index=False)"
   ]
  },
  {
   "cell_type": "markdown",
   "metadata": {},
   "source": [
    "## Adapting happiness reports\n",
    "As we relised that part of the measurement scale of the reports did not match after the merge, we took the merged file from 2019 provided by the happiness report website and used that to analyse the correlation of individual variables to the election rates of chosen countries.\n",
    "\n",
    "(see happines_cons - standing for consistent variable mesurements)"
   ]
  },
  {
   "cell_type": "code",
   "execution_count": 30,
   "metadata": {},
   "outputs": [],
   "source": [
    "#happiness = pd.read_csv(\"../Data/backup_raw_data/happiness_all_raw.csv\")\n",
    "happiness_cons = pd.read_csv(\"../Data/backup_raw_data/happiness_all_raw_consistent_eval.csv\")"
   ]
  },
  {
   "cell_type": "code",
   "execution_count": 31,
   "metadata": {},
   "outputs": [
    {
     "data": {
      "text/html": [
       "<div>\n",
       "<style scoped>\n",
       "    .dataframe tbody tr th:only-of-type {\n",
       "        vertical-align: middle;\n",
       "    }\n",
       "\n",
       "    .dataframe tbody tr th {\n",
       "        vertical-align: top;\n",
       "    }\n",
       "\n",
       "    .dataframe thead th {\n",
       "        text-align: right;\n",
       "    }\n",
       "</style>\n",
       "<table border=\"1\" class=\"dataframe\">\n",
       "  <thead>\n",
       "    <tr style=\"text-align: right;\">\n",
       "      <th></th>\n",
       "      <th>Country name</th>\n",
       "      <th>Year</th>\n",
       "      <th>Life Ladder</th>\n",
       "      <th>Log GDP per capita</th>\n",
       "      <th>Social support</th>\n",
       "      <th>Healthy life expectancy at birth</th>\n",
       "      <th>Freedom to make life choices</th>\n",
       "      <th>Generosity</th>\n",
       "      <th>Perceptions of corruption</th>\n",
       "      <th>Confidence in national government</th>\n",
       "    </tr>\n",
       "  </thead>\n",
       "  <tbody>\n",
       "    <tr>\n",
       "      <th>0</th>\n",
       "      <td>Afghanistan</td>\n",
       "      <td>2008</td>\n",
       "      <td>3.723590</td>\n",
       "      <td>7.168690</td>\n",
       "      <td>0.450662</td>\n",
       "      <td>50.799999</td>\n",
       "      <td>0.718114</td>\n",
       "      <td>0.177889</td>\n",
       "      <td>0.881686</td>\n",
       "      <td>0.612072</td>\n",
       "    </tr>\n",
       "    <tr>\n",
       "      <th>1</th>\n",
       "      <td>Afghanistan</td>\n",
       "      <td>2009</td>\n",
       "      <td>4.401778</td>\n",
       "      <td>7.333790</td>\n",
       "      <td>0.552308</td>\n",
       "      <td>51.200001</td>\n",
       "      <td>0.678896</td>\n",
       "      <td>0.200178</td>\n",
       "      <td>0.850035</td>\n",
       "      <td>0.611545</td>\n",
       "    </tr>\n",
       "    <tr>\n",
       "      <th>2</th>\n",
       "      <td>Afghanistan</td>\n",
       "      <td>2010</td>\n",
       "      <td>4.758381</td>\n",
       "      <td>7.386629</td>\n",
       "      <td>0.539075</td>\n",
       "      <td>51.599998</td>\n",
       "      <td>0.600127</td>\n",
       "      <td>0.134353</td>\n",
       "      <td>0.706766</td>\n",
       "      <td>0.299357</td>\n",
       "    </tr>\n",
       "    <tr>\n",
       "      <th>3</th>\n",
       "      <td>Afghanistan</td>\n",
       "      <td>2011</td>\n",
       "      <td>3.831719</td>\n",
       "      <td>7.415019</td>\n",
       "      <td>0.521104</td>\n",
       "      <td>51.919998</td>\n",
       "      <td>0.495901</td>\n",
       "      <td>0.172137</td>\n",
       "      <td>0.731109</td>\n",
       "      <td>0.307386</td>\n",
       "    </tr>\n",
       "    <tr>\n",
       "      <th>4</th>\n",
       "      <td>Afghanistan</td>\n",
       "      <td>2012</td>\n",
       "      <td>3.782938</td>\n",
       "      <td>7.517126</td>\n",
       "      <td>0.520637</td>\n",
       "      <td>52.240002</td>\n",
       "      <td>0.530935</td>\n",
       "      <td>0.244273</td>\n",
       "      <td>0.775620</td>\n",
       "      <td>0.435440</td>\n",
       "    </tr>\n",
       "  </tbody>\n",
       "</table>\n",
       "</div>"
      ],
      "text/plain": [
       "  Country name  Year  Life Ladder  Log GDP per capita  Social support  \\\n",
       "0  Afghanistan  2008     3.723590            7.168690        0.450662   \n",
       "1  Afghanistan  2009     4.401778            7.333790        0.552308   \n",
       "2  Afghanistan  2010     4.758381            7.386629        0.539075   \n",
       "3  Afghanistan  2011     3.831719            7.415019        0.521104   \n",
       "4  Afghanistan  2012     3.782938            7.517126        0.520637   \n",
       "\n",
       "   Healthy life expectancy at birth  Freedom to make life choices  Generosity  \\\n",
       "0                         50.799999                      0.718114    0.177889   \n",
       "1                         51.200001                      0.678896    0.200178   \n",
       "2                         51.599998                      0.600127    0.134353   \n",
       "3                         51.919998                      0.495901    0.172137   \n",
       "4                         52.240002                      0.530935    0.244273   \n",
       "\n",
       "   Perceptions of corruption  Confidence in national government  \n",
       "0                   0.881686                           0.612072  \n",
       "1                   0.850035                           0.611545  \n",
       "2                   0.706766                           0.299357  \n",
       "3                   0.731109                           0.307386  \n",
       "4                   0.775620                           0.435440  "
      ]
     },
     "execution_count": 31,
     "metadata": {},
     "output_type": "execute_result"
    }
   ],
   "source": [
    "#happiness.head()\n",
    "happiness_cons.head()"
   ]
  },
  {
   "cell_type": "markdown",
   "metadata": {},
   "source": [
    "#### Renaming column so that we can make a merge between happiness and countries dataframes"
   ]
  },
  {
   "cell_type": "code",
   "execution_count": 44,
   "metadata": {},
   "outputs": [],
   "source": [
    "#happiness = happiness.rename(columns={\"Country\":\"country\"})\n",
    "happiness_cons = happiness_cons.rename(columns={\"Country name\":\"country\", \"Life Ladder\":\"Score\", \n",
    "                                                \"Log GDP per capita\":\"GDP\", \n",
    "                                                \"Healthy life expectancy at birth\":\"Healthy life expectancy\",\n",
    "                                                \"Freedom to make life choices\":\"Freedom\"})"
   ]
  },
  {
   "cell_type": "code",
   "execution_count": 45,
   "metadata": {},
   "outputs": [
    {
     "data": {
      "text/html": [
       "<div>\n",
       "<style scoped>\n",
       "    .dataframe tbody tr th:only-of-type {\n",
       "        vertical-align: middle;\n",
       "    }\n",
       "\n",
       "    .dataframe tbody tr th {\n",
       "        vertical-align: top;\n",
       "    }\n",
       "\n",
       "    .dataframe thead th {\n",
       "        text-align: right;\n",
       "    }\n",
       "</style>\n",
       "<table border=\"1\" class=\"dataframe\">\n",
       "  <thead>\n",
       "    <tr style=\"text-align: right;\">\n",
       "      <th></th>\n",
       "      <th>country</th>\n",
       "      <th>Year</th>\n",
       "      <th>Score</th>\n",
       "      <th>GDP</th>\n",
       "      <th>Social support</th>\n",
       "      <th>Healthy life expectancy</th>\n",
       "      <th>Freedom</th>\n",
       "      <th>Generosity</th>\n",
       "      <th>Perceptions of corruption</th>\n",
       "      <th>Confidence in national government</th>\n",
       "      <th>id</th>\n",
       "    </tr>\n",
       "  </thead>\n",
       "  <tbody>\n",
       "    <tr>\n",
       "      <th>0</th>\n",
       "      <td>Austria</td>\n",
       "      <td>2006</td>\n",
       "      <td>7.122211</td>\n",
       "      <td>10.657212</td>\n",
       "      <td>0.936350</td>\n",
       "      <td>70.760002</td>\n",
       "      <td>0.941382</td>\n",
       "      <td>0.300667</td>\n",
       "      <td>0.490111</td>\n",
       "      <td>0.497038</td>\n",
       "      <td>5</td>\n",
       "    </tr>\n",
       "    <tr>\n",
       "      <th>1</th>\n",
       "      <td>Austria</td>\n",
       "      <td>2008</td>\n",
       "      <td>7.180954</td>\n",
       "      <td>10.701936</td>\n",
       "      <td>0.934593</td>\n",
       "      <td>71.080002</td>\n",
       "      <td>0.879069</td>\n",
       "      <td>0.289452</td>\n",
       "      <td>0.613625</td>\n",
       "      <td>0.257242</td>\n",
       "      <td>5</td>\n",
       "    </tr>\n",
       "    <tr>\n",
       "      <th>2</th>\n",
       "      <td>Austria</td>\n",
       "      <td>2010</td>\n",
       "      <td>7.302679</td>\n",
       "      <td>10.676744</td>\n",
       "      <td>0.914193</td>\n",
       "      <td>71.400002</td>\n",
       "      <td>0.895980</td>\n",
       "      <td>0.129112</td>\n",
       "      <td>0.546145</td>\n",
       "      <td>0.486447</td>\n",
       "      <td>5</td>\n",
       "    </tr>\n",
       "    <tr>\n",
       "      <th>3</th>\n",
       "      <td>Austria</td>\n",
       "      <td>2011</td>\n",
       "      <td>7.470513</td>\n",
       "      <td>10.702182</td>\n",
       "      <td>0.944157</td>\n",
       "      <td>71.540001</td>\n",
       "      <td>0.939356</td>\n",
       "      <td>0.129720</td>\n",
       "      <td>0.702721</td>\n",
       "      <td>0.406920</td>\n",
       "      <td>5</td>\n",
       "    </tr>\n",
       "    <tr>\n",
       "      <th>4</th>\n",
       "      <td>Austria</td>\n",
       "      <td>2012</td>\n",
       "      <td>7.400689</td>\n",
       "      <td>10.704404</td>\n",
       "      <td>0.945142</td>\n",
       "      <td>71.680000</td>\n",
       "      <td>0.919704</td>\n",
       "      <td>0.115939</td>\n",
       "      <td>0.770586</td>\n",
       "      <td>0.376574</td>\n",
       "      <td>5</td>\n",
       "    </tr>\n",
       "  </tbody>\n",
       "</table>\n",
       "</div>"
      ],
      "text/plain": [
       "   country  Year     Score        GDP  Social support  \\\n",
       "0  Austria  2006  7.122211  10.657212        0.936350   \n",
       "1  Austria  2008  7.180954  10.701936        0.934593   \n",
       "2  Austria  2010  7.302679  10.676744        0.914193   \n",
       "3  Austria  2011  7.470513  10.702182        0.944157   \n",
       "4  Austria  2012  7.400689  10.704404        0.945142   \n",
       "\n",
       "   Healthy life expectancy   Freedom  Generosity  Perceptions of corruption  \\\n",
       "0                70.760002  0.941382    0.300667                   0.490111   \n",
       "1                71.080002  0.879069    0.289452                   0.613625   \n",
       "2                71.400002  0.895980    0.129112                   0.546145   \n",
       "3                71.540001  0.939356    0.129720                   0.702721   \n",
       "4                71.680000  0.919704    0.115939                   0.770586   \n",
       "\n",
       "   Confidence in national government  id  \n",
       "0                           0.497038   5  \n",
       "1                           0.257242   5  \n",
       "2                           0.486447   5  \n",
       "3                           0.406920   5  \n",
       "4                           0.376574   5  "
      ]
     },
     "execution_count": 45,
     "metadata": {},
     "output_type": "execute_result"
    }
   ],
   "source": [
    "#happiness.head()\n",
    "happiness_cons.head()"
   ]
  },
  {
   "cell_type": "markdown",
   "metadata": {},
   "source": [
    "### Merging dataframes to then be able to convert countries per ids more easily"
   ]
  },
  {
   "cell_type": "code",
   "execution_count": 34,
   "metadata": {},
   "outputs": [],
   "source": [
    "#happiness = pd.merge(happiness,countries,on=\"country\") \n",
    "happiness_cons = pd.merge(happiness_cons,countries,on=\"country\") "
   ]
  },
  {
   "cell_type": "code",
   "execution_count": 35,
   "metadata": {},
   "outputs": [
    {
     "data": {
      "text/plain": [
       "Index(['country', 'Year', 'Life Ladder', 'Log GDP per capita',\n",
       "       'Social support', 'Healthy life expectancy at birth',\n",
       "       'Freedom to make life choices', 'Generosity',\n",
       "       'Perceptions of corruption', 'Confidence in national government', 'id'],\n",
       "      dtype='object')"
      ]
     },
     "execution_count": 35,
     "metadata": {},
     "output_type": "execute_result"
    }
   ],
   "source": [
    "#happiness.columns\n",
    "happiness_cons.columns"
   ]
  },
  {
   "cell_type": "markdown",
   "metadata": {},
   "source": [
    "### Ordering columns"
   ]
  },
  {
   "cell_type": "code",
   "execution_count": 47,
   "metadata": {},
   "outputs": [],
   "source": [
    "#happiness_columns = [\"id\", \"country\", \"Year\", \"Score\", \"GDP\", \"Social support\", \"Healthy life expectancy\", \"Freedom\",\n",
    "                     #\"Generosity\", \"Perceptions of corruption\", \"Confidence in national government\"]\n",
    "       \n",
    "\n",
    "#happiness = happiness[happiness_columns]\n",
    "\n",
    "happiness_columns = [\"id\", \"country\", \"Year\", \"Score\", \"GDP\", \"Social support\", \"Healthy life expectancy\", \n",
    "                     \"Freedom\", \"Generosity\", \"Perceptions of corruption\", \"Confidence in national government\"]\n",
    "       \n",
    "\n",
    "happiness_cons = happiness_cons[happiness_columns]"
   ]
  },
  {
   "cell_type": "code",
   "execution_count": 48,
   "metadata": {},
   "outputs": [],
   "source": [
    "#happiness_columns = list(happiness.columns)\n",
    "happiness_cons_columns = list(happiness_cons.columns)"
   ]
  },
  {
   "cell_type": "code",
   "execution_count": 50,
   "metadata": {},
   "outputs": [
    {
     "data": {
      "text/plain": [
       "['id',\n",
       " 'country',\n",
       " 'Year',\n",
       " 'Score',\n",
       " 'GDP',\n",
       " 'Social support',\n",
       " 'Healthy life expectancy',\n",
       " 'Freedom',\n",
       " 'Generosity',\n",
       " 'Perceptions of corruption',\n",
       " 'Confidence in national government']"
      ]
     },
     "execution_count": 50,
     "metadata": {},
     "output_type": "execute_result"
    }
   ],
   "source": [
    "#happiness_columns\n",
    "happiness_cons_columns"
   ]
  },
  {
   "cell_type": "markdown",
   "metadata": {},
   "source": [
    "### Replacing names for consistency between dataframes and database. \n",
    "Used a function so it can be used more times easily"
   ]
  },
  {
   "cell_type": "code",
   "execution_count": 40,
   "metadata": {},
   "outputs": [],
   "source": [
    "def lower_case(list):\n",
    "    new_list = []\n",
    "    for word in list:\n",
    "        new_word = word.lower()\n",
    "        new_list.append(new_word)\n",
    "    return new_list\n"
   ]
  },
  {
   "cell_type": "code",
   "execution_count": 41,
   "metadata": {},
   "outputs": [],
   "source": [
    "# happiness_columns = lower_case(happiness_columns)\n",
    "happiness_cons_columns = lower_case(happiness_columns)"
   ]
  },
  {
   "cell_type": "code",
   "execution_count": 51,
   "metadata": {},
   "outputs": [
    {
     "name": "stdout",
     "output_type": "stream",
     "text": [
      "['id', 'country', 'Year', 'Score', 'GDP', 'Social support', 'Healthy life expectancy', 'Freedom', 'Generosity', 'Perceptions of corruption', 'Confidence in national government']\n",
      "['id', 'country', 'Year', 'Score', 'GDP', 'Social support', 'Healthy life expectancy', 'Freedom', 'Generosity', 'Perceptions of corruption', 'Confidence in national government']\n"
     ]
    }
   ],
   "source": [
    "print(happiness_columns)\n",
    "print (happiness_cons_columns)"
   ]
  },
  {
   "cell_type": "code",
   "execution_count": 52,
   "metadata": {},
   "outputs": [
    {
     "data": {
      "text/html": [
       "<div>\n",
       "<style scoped>\n",
       "    .dataframe tbody tr th:only-of-type {\n",
       "        vertical-align: middle;\n",
       "    }\n",
       "\n",
       "    .dataframe tbody tr th {\n",
       "        vertical-align: top;\n",
       "    }\n",
       "\n",
       "    .dataframe thead th {\n",
       "        text-align: right;\n",
       "    }\n",
       "</style>\n",
       "<table border=\"1\" class=\"dataframe\">\n",
       "  <thead>\n",
       "    <tr style=\"text-align: right;\">\n",
       "      <th></th>\n",
       "      <th>id</th>\n",
       "      <th>country</th>\n",
       "      <th>Year</th>\n",
       "      <th>Score</th>\n",
       "      <th>GDP</th>\n",
       "      <th>Social support</th>\n",
       "      <th>Healthy life expectancy</th>\n",
       "      <th>Freedom</th>\n",
       "      <th>Generosity</th>\n",
       "      <th>Perceptions of corruption</th>\n",
       "      <th>Confidence in national government</th>\n",
       "    </tr>\n",
       "  </thead>\n",
       "  <tbody>\n",
       "    <tr>\n",
       "      <th>0</th>\n",
       "      <td>5</td>\n",
       "      <td>Austria</td>\n",
       "      <td>2006</td>\n",
       "      <td>7.122211</td>\n",
       "      <td>10.657212</td>\n",
       "      <td>0.936350</td>\n",
       "      <td>70.760002</td>\n",
       "      <td>0.941382</td>\n",
       "      <td>0.300667</td>\n",
       "      <td>0.490111</td>\n",
       "      <td>0.497038</td>\n",
       "    </tr>\n",
       "    <tr>\n",
       "      <th>1</th>\n",
       "      <td>5</td>\n",
       "      <td>Austria</td>\n",
       "      <td>2008</td>\n",
       "      <td>7.180954</td>\n",
       "      <td>10.701936</td>\n",
       "      <td>0.934593</td>\n",
       "      <td>71.080002</td>\n",
       "      <td>0.879069</td>\n",
       "      <td>0.289452</td>\n",
       "      <td>0.613625</td>\n",
       "      <td>0.257242</td>\n",
       "    </tr>\n",
       "    <tr>\n",
       "      <th>2</th>\n",
       "      <td>5</td>\n",
       "      <td>Austria</td>\n",
       "      <td>2010</td>\n",
       "      <td>7.302679</td>\n",
       "      <td>10.676744</td>\n",
       "      <td>0.914193</td>\n",
       "      <td>71.400002</td>\n",
       "      <td>0.895980</td>\n",
       "      <td>0.129112</td>\n",
       "      <td>0.546145</td>\n",
       "      <td>0.486447</td>\n",
       "    </tr>\n",
       "    <tr>\n",
       "      <th>3</th>\n",
       "      <td>5</td>\n",
       "      <td>Austria</td>\n",
       "      <td>2011</td>\n",
       "      <td>7.470513</td>\n",
       "      <td>10.702182</td>\n",
       "      <td>0.944157</td>\n",
       "      <td>71.540001</td>\n",
       "      <td>0.939356</td>\n",
       "      <td>0.129720</td>\n",
       "      <td>0.702721</td>\n",
       "      <td>0.406920</td>\n",
       "    </tr>\n",
       "    <tr>\n",
       "      <th>4</th>\n",
       "      <td>5</td>\n",
       "      <td>Austria</td>\n",
       "      <td>2012</td>\n",
       "      <td>7.400689</td>\n",
       "      <td>10.704404</td>\n",
       "      <td>0.945142</td>\n",
       "      <td>71.680000</td>\n",
       "      <td>0.919704</td>\n",
       "      <td>0.115939</td>\n",
       "      <td>0.770586</td>\n",
       "      <td>0.376574</td>\n",
       "    </tr>\n",
       "  </tbody>\n",
       "</table>\n",
       "</div>"
      ],
      "text/plain": [
       "   id  country  Year     Score        GDP  Social support  \\\n",
       "0   5  Austria  2006  7.122211  10.657212        0.936350   \n",
       "1   5  Austria  2008  7.180954  10.701936        0.934593   \n",
       "2   5  Austria  2010  7.302679  10.676744        0.914193   \n",
       "3   5  Austria  2011  7.470513  10.702182        0.944157   \n",
       "4   5  Austria  2012  7.400689  10.704404        0.945142   \n",
       "\n",
       "   Healthy life expectancy   Freedom  Generosity  Perceptions of corruption  \\\n",
       "0                70.760002  0.941382    0.300667                   0.490111   \n",
       "1                71.080002  0.879069    0.289452                   0.613625   \n",
       "2                71.400002  0.895980    0.129112                   0.546145   \n",
       "3                71.540001  0.939356    0.129720                   0.702721   \n",
       "4                71.680000  0.919704    0.115939                   0.770586   \n",
       "\n",
       "   Confidence in national government  \n",
       "0                           0.497038  \n",
       "1                           0.257242  \n",
       "2                           0.486447  \n",
       "3                           0.406920  \n",
       "4                           0.376574  "
      ]
     },
     "execution_count": 52,
     "metadata": {},
     "output_type": "execute_result"
    }
   ],
   "source": [
    "#happiness.head()\n",
    "happiness_cons.head()"
   ]
  },
  {
   "cell_type": "code",
   "execution_count": 53,
   "metadata": {},
   "outputs": [],
   "source": [
    "#happiness = happiness.rename(columns={\"id\":\"id_country\"})\n",
    "happiness_cons = happiness_cons.rename(columns={\"id\":\"id_country\"})"
   ]
  },
  {
   "cell_type": "markdown",
   "metadata": {},
   "source": [
    "### Dropping country names, since we have merged with countries and we have now country ids"
   ]
  },
  {
   "cell_type": "code",
   "execution_count": 55,
   "metadata": {},
   "outputs": [],
   "source": [
    "#happiness = happiness.drop(\"country\",axis=1)\n",
    "happiness_cons = happiness_cons.drop(\"country\",axis=1)"
   ]
  },
  {
   "cell_type": "code",
   "execution_count": 56,
   "metadata": {},
   "outputs": [
    {
     "data": {
      "text/html": [
       "<div>\n",
       "<style scoped>\n",
       "    .dataframe tbody tr th:only-of-type {\n",
       "        vertical-align: middle;\n",
       "    }\n",
       "\n",
       "    .dataframe tbody tr th {\n",
       "        vertical-align: top;\n",
       "    }\n",
       "\n",
       "    .dataframe thead th {\n",
       "        text-align: right;\n",
       "    }\n",
       "</style>\n",
       "<table border=\"1\" class=\"dataframe\">\n",
       "  <thead>\n",
       "    <tr style=\"text-align: right;\">\n",
       "      <th></th>\n",
       "      <th>id_country</th>\n",
       "      <th>Year</th>\n",
       "      <th>Score</th>\n",
       "      <th>GDP</th>\n",
       "      <th>Social support</th>\n",
       "      <th>Healthy life expectancy</th>\n",
       "      <th>Freedom</th>\n",
       "      <th>Generosity</th>\n",
       "      <th>Perceptions of corruption</th>\n",
       "      <th>Confidence in national government</th>\n",
       "    </tr>\n",
       "  </thead>\n",
       "  <tbody>\n",
       "    <tr>\n",
       "      <th>0</th>\n",
       "      <td>5</td>\n",
       "      <td>2006</td>\n",
       "      <td>7.122211</td>\n",
       "      <td>10.657212</td>\n",
       "      <td>0.936350</td>\n",
       "      <td>70.760002</td>\n",
       "      <td>0.941382</td>\n",
       "      <td>0.300667</td>\n",
       "      <td>0.490111</td>\n",
       "      <td>0.497038</td>\n",
       "    </tr>\n",
       "    <tr>\n",
       "      <th>1</th>\n",
       "      <td>5</td>\n",
       "      <td>2008</td>\n",
       "      <td>7.180954</td>\n",
       "      <td>10.701936</td>\n",
       "      <td>0.934593</td>\n",
       "      <td>71.080002</td>\n",
       "      <td>0.879069</td>\n",
       "      <td>0.289452</td>\n",
       "      <td>0.613625</td>\n",
       "      <td>0.257242</td>\n",
       "    </tr>\n",
       "    <tr>\n",
       "      <th>2</th>\n",
       "      <td>5</td>\n",
       "      <td>2010</td>\n",
       "      <td>7.302679</td>\n",
       "      <td>10.676744</td>\n",
       "      <td>0.914193</td>\n",
       "      <td>71.400002</td>\n",
       "      <td>0.895980</td>\n",
       "      <td>0.129112</td>\n",
       "      <td>0.546145</td>\n",
       "      <td>0.486447</td>\n",
       "    </tr>\n",
       "    <tr>\n",
       "      <th>3</th>\n",
       "      <td>5</td>\n",
       "      <td>2011</td>\n",
       "      <td>7.470513</td>\n",
       "      <td>10.702182</td>\n",
       "      <td>0.944157</td>\n",
       "      <td>71.540001</td>\n",
       "      <td>0.939356</td>\n",
       "      <td>0.129720</td>\n",
       "      <td>0.702721</td>\n",
       "      <td>0.406920</td>\n",
       "    </tr>\n",
       "    <tr>\n",
       "      <th>4</th>\n",
       "      <td>5</td>\n",
       "      <td>2012</td>\n",
       "      <td>7.400689</td>\n",
       "      <td>10.704404</td>\n",
       "      <td>0.945142</td>\n",
       "      <td>71.680000</td>\n",
       "      <td>0.919704</td>\n",
       "      <td>0.115939</td>\n",
       "      <td>0.770586</td>\n",
       "      <td>0.376574</td>\n",
       "    </tr>\n",
       "  </tbody>\n",
       "</table>\n",
       "</div>"
      ],
      "text/plain": [
       "   id_country  Year     Score        GDP  Social support  \\\n",
       "0           5  2006  7.122211  10.657212        0.936350   \n",
       "1           5  2008  7.180954  10.701936        0.934593   \n",
       "2           5  2010  7.302679  10.676744        0.914193   \n",
       "3           5  2011  7.470513  10.702182        0.944157   \n",
       "4           5  2012  7.400689  10.704404        0.945142   \n",
       "\n",
       "   Healthy life expectancy   Freedom  Generosity  Perceptions of corruption  \\\n",
       "0                70.760002  0.941382    0.300667                   0.490111   \n",
       "1                71.080002  0.879069    0.289452                   0.613625   \n",
       "2                71.400002  0.895980    0.129112                   0.546145   \n",
       "3                71.540001  0.939356    0.129720                   0.702721   \n",
       "4                71.680000  0.919704    0.115939                   0.770586   \n",
       "\n",
       "   Confidence in national government  \n",
       "0                           0.497038  \n",
       "1                           0.257242  \n",
       "2                           0.486447  \n",
       "3                           0.406920  \n",
       "4                           0.376574  "
      ]
     },
     "execution_count": 56,
     "metadata": {},
     "output_type": "execute_result"
    }
   ],
   "source": [
    "#happiness.head()\n",
    "happiness_cons.head()"
   ]
  },
  {
   "cell_type": "code",
   "execution_count": 58,
   "metadata": {},
   "outputs": [],
   "source": [
    "#happiness.to_csv(\"../Data/happiness_all.csv\", index=False)\n",
    "happiness_cons.to_csv(\"../Data/happiness_all_constant.csv\", index=False)"
   ]
  }
 ],
 "metadata": {
  "kernelspec": {
   "display_name": "Python 3",
   "language": "python",
   "name": "python3"
  },
  "language_info": {
   "codemirror_mode": {
    "name": "ipython",
    "version": 3
   },
   "file_extension": ".py",
   "mimetype": "text/x-python",
   "name": "python",
   "nbconvert_exporter": "python",
   "pygments_lexer": "ipython3",
   "version": "3.7.3"
  }
 },
 "nbformat": 4,
 "nbformat_minor": 2
}
